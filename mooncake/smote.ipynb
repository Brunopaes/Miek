{
 "cells": [
  {
   "cell_type": "code",
   "execution_count": null,
   "metadata": {
    "pycharm": {
     "is_executing": true
    }
   },
   "outputs": [],
   "source": [
    "from sklearn.metrics import accuracy_score\n",
    "from imblearn.over_sampling import SMOTE\n",
    "from sklearn.svm import LinearSVC\n",
    "from sklearn import linear_model\n",
    "\n",
    "import helpers\n",
    "import models\n",
    "\n",
    "import datetime\n",
    "import pandas"
   ]
  },
  {
   "cell_type": "code",
   "execution_count": null,
   "metadata": {
    "pycharm": {
     "is_executing": true
    }
   },
   "outputs": [],
   "source": [
    "train_path = r\"C:\\Users\\bruno\\PycharmProjects\\mooncake\\data\\datasource.csv\""
   ]
  },
  {
   "cell_type": "code",
   "execution_count": null,
   "metadata": {
    "pycharm": {
     "is_executing": true
    }
   },
   "outputs": [],
   "source": [
    "df = pandas.read_csv(train_path).drop(['isFlaggedFraud', 'nameOrig', 'nameDest'], axis=1)"
   ]
  },
  {
   "cell_type": "code",
   "execution_count": null,
   "metadata": {
    "pycharm": {
     "is_executing": true
    }
   },
   "outputs": [],
   "source": [
    "df.columns"
   ]
  },
  {
   "cell_type": "code",
   "execution_count": null,
   "metadata": {
    "pycharm": {
     "is_executing": true
    }
   },
   "outputs": [],
   "source": [
    "df.type.value_counts()"
   ]
  },
  {
   "cell_type": "code",
   "execution_count": null,
   "metadata": {
    "pycharm": {
     "is_executing": true
    }
   },
   "outputs": [],
   "source": [
    "df.isFraud.value_counts()"
   ]
  },
  {
   "cell_type": "code",
   "execution_count": null,
   "metadata": {
    "pycharm": {
     "is_executing": true
    }
   },
   "outputs": [],
   "source": [
    "df.loc[df['type'] == 'CASH_IN', 'type'] = 0\n",
    "df.loc[df['type'] == 'CASH_OUT', 'type'] = 1\n",
    "df.loc[df['type'] == 'DEBIT', 'type'] = 2\n",
    "df.loc[df['type'] == 'PAYMENT', 'type'] = 3\n",
    "df.loc[df['type'] == 'TRANSFER', 'type'] = 4"
   ]
  },
  {
   "cell_type": "code",
   "execution_count": null,
   "metadata": {
    "pycharm": {
     "is_executing": true
    }
   },
   "outputs": [],
   "source": [
    "len(df[df['isFraud'] == 1] )/len(df) * 100"
   ]
  },
  {
   "cell_type": "code",
   "execution_count": null,
   "metadata": {
    "pycharm": {
     "is_executing": true
    }
   },
   "outputs": [],
   "source": [
    "df_non_fraud = df[df['isFraud'] == 0]\n",
    "df_fraud = df[df['isFraud'] == 1]"
   ]
  },
  {
   "cell_type": "code",
   "execution_count": null,
   "metadata": {
    "pycharm": {
     "is_executing": true
    }
   },
   "outputs": [],
   "source": [
    "df_fraud, fraud_validation = helpers.data_separation(df_fraud)\n",
    "# df_non_fraud = helpers.data_separation(df_non_fraud, 0.05)[1].reset_index(drop=True)\n",
    "# df = df_non_fraud.append(df_fraud).reset_index(drop=True)"
   ]
  },
  {
   "cell_type": "code",
   "execution_count": null,
   "metadata": {
    "pycharm": {
     "is_executing": true
    }
   },
   "outputs": [],
   "source": [
    "train, test = helpers.data_separation(df)\n",
    "test, validation = helpers.data_separation(test, 0.5)"
   ]
  },
  {
   "cell_type": "code",
   "execution_count": null,
   "metadata": {
    "pycharm": {
     "is_executing": true
    }
   },
   "outputs": [],
   "source": [
    "x_train, y_train = helpers.x_and_y_separation(train)\n",
    "x_test, y_test = helpers.x_and_y_separation(test)\n",
    "x_validation, y_validation = helpers.x_and_y_separation(validation)\n",
    "\n",
    "y_train = pandas.DataFrame(y_train)\n",
    "y_test = pandas.DataFrame(y_test)\n",
    "y_validation = pandas.DataFrame(y_validation)"
   ]
  },
  {
   "cell_type": "code",
   "execution_count": null,
   "metadata": {
    "pycharm": {
     "is_executing": true
    }
   },
   "outputs": [],
   "source": [
    "x_train, y_train = SMOTE().fit_sample(x_train, y_train)"
   ]
  },
  {
   "cell_type": "code",
   "execution_count": null,
   "metadata": {
    "pycharm": {
     "is_executing": true
    }
   },
   "outputs": [],
   "source": [
    "y_train.reset_index(drop=True, inplace=True)\n",
    "y_test.reset_index(drop=True, inplace=True)\n",
    "y_validation.reset_index(drop=True, inplace=True)"
   ]
  },
  {
   "cell_type": "code",
   "execution_count": null,
   "metadata": {
    "pycharm": {
     "is_executing": true
    },
    "scrolled": true
   },
   "outputs": [],
   "source": [
    "d = datetime.datetime.now()\n",
    "model = linear_model.LinearRegression().fit(x_train, y_train)\n",
    "helpers.time_screening(d)"
   ]
  },
  {
   "cell_type": "code",
   "execution_count": null,
   "metadata": {
    "pycharm": {
     "is_executing": true
    }
   },
   "outputs": [],
   "source": [
    "d = datetime.datetime.now()\n",
    "model = models.RandomForest(x_train, y_train.isFraud).fit()\n",
    "helpers.time_screening(d)"
   ]
  },
  {
   "cell_type": "code",
   "execution_count": null,
   "metadata": {
    "pycharm": {
     "is_executing": true
    }
   },
   "outputs": [],
   "source": [
    "d = datetime.datetime.now()\n",
    "model = LinearSVC(C=0.01, penalty=\"l1\", dual=False, max_iter=10000).fit(x_train, y_train.isFraud.values)\n",
    "helpers.time_screening(d)"
   ]
  },
  {
   "cell_type": "code",
   "execution_count": null,
   "metadata": {
    "pycharm": {
     "is_executing": true
    }
   },
   "outputs": [],
   "source": [
    "y_train['Predict'] = pandas.DataFrame(model.predict(x_train))\n",
    "y_train['Predict'] = y_train['Predict'].astype(int)\n",
    "\n",
    "helpers.confusion_matrix(y_train, ['isFraud', 'Predict'], ['Non-Fraud', 'Fraud'])"
   ]
  },
  {
   "cell_type": "code",
   "execution_count": null,
   "metadata": {
    "pycharm": {
     "is_executing": true
    }
   },
   "outputs": [],
   "source": [
    "y_test['Predict'] = pandas.DataFrame(model.predict(x_test))\n",
    "y_test['Predict'] = y_test['Predict'].astype(int)\n",
    "\n",
    "helpers.confusion_matrix(y_test, ['isFraud', 'Predict'], ['Non-Fraud', 'Fraud'])"
   ]
  },
  {
   "cell_type": "code",
   "execution_count": null,
   "metadata": {
    "pycharm": {
     "is_executing": true
    }
   },
   "outputs": [],
   "source": [
    "y_validation['Predict'] = pandas.DataFrame(model.predict(x_validation))\n",
    "y_validation['Predict'] = y_validation['Predict'].astype(int)\n",
    "\n",
    "helpers.confusion_matrix(y_validation, ['isFraud', 'Predict'],['Non-Fraud', 'Fraud'])"
   ]
  },
  {
   "cell_type": "code",
   "execution_count": null,
   "metadata": {
    "pycharm": {
     "is_executing": true
    }
   },
   "outputs": [],
   "source": [
    "x_fraud, y_fraud = helpers.x_and_y_separation(fraud_validation.reset_index(drop=True))\n",
    "y_fraud = pandas.DataFrame(y_fraud)\n",
    "\n",
    "y_fraud['Predict'] = pandas.DataFrame(model.predict(x_fraud))\n",
    "y_fraud['Predict'] = y_fraud['Predict'].astype(int)\n",
    "\n",
    "helpers.confusion_matrix(y_fraud, ['isFraud', 'Predict'], ['Non-Fraud', 'Fraud'])"
   ]
  },
  {
   "cell_type": "code",
   "execution_count": null,
   "metadata": {
    "pycharm": {
     "is_executing": true
    }
   },
   "outputs": [],
   "source": [
    "print('{:0.3f}'.format(accuracy_score(y_train['isFraud'], y_train['Predict'])))\n",
    "print('{:0.3f}'.format(accuracy_score(y_test['isFraud'], y_test['Predict'])))\n",
    "print('{:0.3f}'.format(accuracy_score(y_validation['isFraud'], y_validation['Predict'])))\n",
    "print('{:0.3f}'.format(accuracy_score(y_fraud['isFraud'], y_fraud['Predict'])))"
   ]
  },
  {
   "cell_type": "code",
   "execution_count": 4,
   "metadata": {
    "pycharm": {
     "is_executing": true
    }
   },
   "outputs": [
    {
     "data": {
      "text/html": [
       "<div>\n",
       "<style scoped>\n",
       "    .dataframe tbody tr th:only-of-type {\n",
       "        vertical-align: middle;\n",
       "    }\n",
       "\n",
       "    .dataframe tbody tr th {\n",
       "        vertical-align: top;\n",
       "    }\n",
       "\n",
       "    .dataframe thead th {\n",
       "        text-align: right;\n",
       "    }\n",
       "</style>\n",
       "<table border=\"1\" class=\"dataframe\">\n",
       "  <thead>\n",
       "    <tr style=\"text-align: right;\">\n",
       "      <th></th>\n",
       "      <th>train</th>\n",
       "      <th>test</th>\n",
       "      <th>validation</th>\n",
       "      <th>training time</th>\n",
       "    </tr>\n",
       "    <tr>\n",
       "      <th></th>\n",
       "      <th></th>\n",
       "      <th></th>\n",
       "      <th></th>\n",
       "      <th></th>\n",
       "    </tr>\n",
       "  </thead>\n",
       "  <tbody>\n",
       "    <tr>\n",
       "      <th>tree classifier</th>\n",
       "      <td>0.999</td>\n",
       "      <td>0.999</td>\n",
       "      <td>0.999</td>\n",
       "      <td>0:00:05.459905</td>\n",
       "    </tr>\n",
       "    <tr>\n",
       "      <th>random forest</th>\n",
       "      <td>1.000</td>\n",
       "      <td>1.000</td>\n",
       "      <td>1.000</td>\n",
       "      <td>0:07:41.670989</td>\n",
       "    </tr>\n",
       "    <tr>\n",
       "      <th>svm</th>\n",
       "      <td>0.999</td>\n",
       "      <td>0.999</td>\n",
       "      <td>0.999</td>\n",
       "      <td>0:03:38.943760</td>\n",
       "    </tr>\n",
       "  </tbody>\n",
       "</table>\n",
       "</div>"
      ],
      "text/plain": [
       "                 train   test  validation   training time\n",
       "                                                         \n",
       "tree classifier  0.999  0.999       0.999  0:00:05.459905\n",
       "random forest    1.000  1.000       1.000  0:07:41.670989\n",
       "svm              0.999  0.999       0.999  0:03:38.943760"
      ]
     },
     "execution_count": 4,
     "metadata": {},
     "output_type": "execute_result"
    }
   ],
   "source": [
    "acc = {\n",
    "    '': ['tree classifier', 'random forest', 'svm'],\n",
    "    'train': [0.999, 1.000, 0.999],\n",
    "    'test': [0.999, 1.000, 0.999],\n",
    "    'validation': [0.999,1.000,0.999],\n",
    "    'training time': ['0:00:05.459905', '0:07:41.670989', '0:03:38.943760']\n",
    "}\n",
    "\n",
    "pandas.DataFrame(acc).set_index('')"
   ]
  },
  {
   "cell_type": "code",
   "execution_count": null,
   "outputs": [],
   "source": [
    "acc = {\n",
    "    '': ['tree classifier', 'random forest', 'svm'],\n",
    "    'fraud': [0.041, 0.595, 0.365],\n",
    "    'training time': ['0:00:05.459905', '0:07:41.670989', '0:03:38.943760']\n",
    "}\n",
    "\n",
    "pandas.DataFrame(acc).set_index('')"
   ],
   "metadata": {
    "collapsed": false,
    "pycharm": {
     "name": "#%%\n"
    }
   }
  },
  {
   "cell_type": "code",
   "execution_count": 5,
   "metadata": {},
   "outputs": [
    {
     "data": {
      "text/html": [
       "<div>\n",
       "<style scoped>\n",
       "    .dataframe tbody tr th:only-of-type {\n",
       "        vertical-align: middle;\n",
       "    }\n",
       "\n",
       "    .dataframe tbody tr th {\n",
       "        vertical-align: top;\n",
       "    }\n",
       "\n",
       "    .dataframe thead th {\n",
       "        text-align: right;\n",
       "    }\n",
       "</style>\n",
       "<table border=\"1\" class=\"dataframe\">\n",
       "  <thead>\n",
       "    <tr style=\"text-align: right;\">\n",
       "      <th></th>\n",
       "      <th>fraud</th>\n",
       "      <th>training time</th>\n",
       "    </tr>\n",
       "    <tr>\n",
       "      <th></th>\n",
       "      <th></th>\n",
       "      <th></th>\n",
       "    </tr>\n",
       "  </thead>\n",
       "  <tbody>\n",
       "    <tr>\n",
       "      <th>tree classifier</th>\n",
       "      <td>0.041</td>\n",
       "      <td>0:00:05.459905</td>\n",
       "    </tr>\n",
       "    <tr>\n",
       "      <th>random forest</th>\n",
       "      <td>0.595</td>\n",
       "      <td>0:07:41.670989</td>\n",
       "    </tr>\n",
       "    <tr>\n",
       "      <th>svm</th>\n",
       "      <td>0.365</td>\n",
       "      <td>0:03:38.943760</td>\n",
       "    </tr>\n",
       "  </tbody>\n",
       "</table>\n",
       "</div>"
      ],
      "text/plain": [
       "                 fraud   training time\n",
       "                                      \n",
       "tree classifier  0.041  0:00:05.459905\n",
       "random forest    0.595  0:07:41.670989\n",
       "svm              0.365  0:03:38.943760"
      ]
     },
     "execution_count": 5,
     "metadata": {},
     "output_type": "execute_result"
    }
   ],
   "source": [
    "acc = {\n",
    "    '': ['tree classifier', 'random forest', 'svm'],\n",
    "    'fraud': [0.041, 0.595, 0.365],\n",
    "    'training time': ['0:00:05.459905', '0:07:41.670989', '0:03:38.943760']\n",
    "}\n",
    "\n",
    "pandas.DataFrame(acc).set_index('')"
   ]
  }
 ],
 "metadata": {
  "kernelspec": {
   "display_name": "PyCharm (mooncake)",
   "language": "python",
   "name": "pycharm-bcb8e424"
  },
  "language_info": {
   "codemirror_mode": {
    "name": "ipython",
    "version": 3
   },
   "file_extension": ".py",
   "mimetype": "text/x-python",
   "name": "python",
   "nbconvert_exporter": "python",
   "pygments_lexer": "ipython3",
   "version": "3.7.6"
  }
 },
 "nbformat": 4,
 "nbformat_minor": 1
}