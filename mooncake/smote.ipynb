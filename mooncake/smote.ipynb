{
 "cells" : [
  {
   "cell_type" : "code",
   "execution_count" : 3,
   "metadata" : {
    "pycharm" : {
     "is_executing" : false
    }
   },
   "outputs" : [ ],
   "source" : [
    "from imblearn.over_sampling import SMOTE\n",
    "\n",
    "import helpers\n",
    "import models\n",
    "\n",
    "import datetime\n",
    "import pandas\n"
   ]
  },
  {
   "cell_type" : "code",
   "execution_count" : 2,
   "metadata" : { },
   "outputs" : [ ],
   "source" : [
    "train_path = r\"C:\\Users\\bruno\\Downloads\\paysim1\\datasource.csv\""
   ]
  },
  {
   "cell_type" : "code",
   "execution_count" : 4,
   "metadata" : { },
   "outputs" : [ ],
   "source" : [
    "df = pandas.read_csv(train_path).drop(['isFlaggedFraud', 'nameOrig', 'nameDest'], axis=1)"
   ]
  },
  {
   "cell_type" : "code",
   "execution_count" : 5,
   "metadata" : { },
   "outputs" : [
    {
     "data" : {
      "text/plain" : [
       "Index(['step', 'type', 'amount', 'oldbalanceOrg', 'newbalanceOrig',\n",
       "       'oldbalanceDest', 'newbalanceDest', 'isFraud'],\n",
       "      dtype='object')"
      ]
     },
     "execution_count" : 5,
     "metadata" : { },
     "output_type" : "execute_result"
    }
   ],
   "source" : [
    "df.columns"
   ]
  },
  {
   "cell_type" : "code",
   "execution_count" : 6,
   "metadata" : { },
   "outputs" : [
    {
     "data" : {
      "text/plain" : [
       "CASH_OUT    2237500\n",
       "PAYMENT     2151495\n",
       "CASH_IN     1399284\n",
       "TRANSFER     532909\n",
       "DEBIT         41432\n",
       "Name: type, dtype: int64"
      ]
     },
     "execution_count" : 6,
     "metadata" : { },
     "output_type" : "execute_result"
    }
   ],
   "source" : [
    "df.type.value_counts()"
   ]
  },
  {
   "cell_type" : "code",
   "execution_count" : 7,
   "metadata" : { },
   "outputs" : [
    {
     "data" : {
      "text/plain" : [
       "0    6354407\n",
       "1       8213\n",
       "Name: isFraud, dtype: int64"
      ]
     },
     "execution_count" : 7,
     "metadata" : { },
     "output_type" : "execute_result"
    }
   ],
   "source" : [
    "df.isFraud.value_counts()"
   ]
  },
  {
   "cell_type" : "code",
   "execution_count" : 8,
   "metadata" : { },
   "outputs" : [ ],
   "source" : [
    "df.loc[df['type'] == 'CASH_IN', 'type'] = 0\n",
    "df.loc[df['type'] == 'CASH_OUT', 'type'] = 1\n",
    "df.loc[df['type'] == 'DEBIT', 'type'] = 2\n",
    "df.loc[df['type'] == 'PAYMENT', 'type'] = 3\n",
    "df.loc[df['type'] == 'TRANSFER', 'type'] = 4"
   ]
  },
  {
   "cell_type" : "code",
   "execution_count" : 9,
   "metadata" : { },
   "outputs" : [
    {
     "data" : {
      "text/plain" : [
       "0.12908204481801522"
      ]
     },
     "execution_count" : 9,
     "metadata" : { },
     "output_type" : "execute_result"
    }
   ],
   "source" : [
    "len(df[df['isFraud'] == 1] )/len(df) * 100"
   ]
  },
  {
   "cell_type" : "code",
   "execution_count" : 10,
   "metadata" : { },
   "outputs" : [ ],
   "source" : [
    "df_non_fraud = df[df['isFraud'] == 0]\n",
    "df_fraud = df[df['isFraud'] == 1]"
   ]
  },
  {
   "cell_type" : "code",
   "execution_count" : 12,
   "metadata" : { },
   "outputs" : [ ],
   "source" : [
    "df_fraud, fraud_validation = helpers.data_separation(df_fraud)\n",
    "df = df_non_fraud.append(df_fraud).reset_index()"
   ]
  },
  {
   "cell_type" : "code",
   "execution_count" : 19,
   "metadata" : { },
   "outputs" : [ ],
   "source" : [
    "train, test = helpers.data_separation(df)\n",
    "test, validation = helpers.data_separation(test, 0.4)"
   ]
  },
  {
   "cell_type" : "code",
   "execution_count" : 20,
   "metadata" : { },
   "outputs" : [
    {
     "data" : {
      "text/plain" : [
       "(5088781, 763317, 508879)"
      ]
     },
     "execution_count" : 20,
     "metadata" : { },
     "output_type" : "execute_result"
    }
   ],
   "source" : [
    "len(train), len(test), len(validation)"
   ]
  },
  {
   "cell_type" : "code",
   "execution_count" : 29,
   "metadata" : { },
   "outputs" : [ ],
   "source" : [
    "x_train, y_train = helpers.x_and_y_separation(train)\n",
    "x_test, y_test = helpers.x_and_y_separation(test)\n",
    "x_validation, y_validation = helpers.x_and_y_separation(validation)\n",
    "\n",
    "y_train = pandas.DataFrame(y_train)\n",
    "y_test = pandas.DataFrame(y_test)\n",
    "y_validation = pandas.DataFrame(y_validation)"
   ]
  },
  {
   "cell_type" : "code",
   "execution_count" : 31,
   "metadata" : { },
   "outputs" : [
    {
     "data" : {
      "text/html" : [
       "<div>\n",
       "<style scoped>\n",
       "    .dataframe tbody tr th:only-of-type {\n",
       "        vertical-align: middle;\n",
       "    }\n",
       "\n",
       "    .dataframe tbody tr th {\n",
       "        vertical-align: top;\n",
       "    }\n",
       "\n",
       "    .dataframe thead th {\n",
       "        text-align: right;\n",
       "    }\n",
       "</style>\n",
       "<table border=\"1\" class=\"dataframe\">\n",
       "  <thead>\n",
       "    <tr style=\"text-align: right;\">\n",
       "      <th></th>\n",
       "      <th>index</th>\n",
       "      <th>step</th>\n",
       "      <th>type</th>\n",
       "      <th>amount</th>\n",
       "      <th>oldbalanceOrg</th>\n",
       "      <th>newbalanceOrig</th>\n",
       "      <th>oldbalanceDest</th>\n",
       "      <th>newbalanceDest</th>\n",
       "    </tr>\n",
       "  </thead>\n",
       "  <tbody>\n",
       "    <tr>\n",
       "      <th>1021715</th>\n",
       "      <td>1022283</td>\n",
       "      <td>47</td>\n",
       "      <td>1</td>\n",
       "      <td>214986.80</td>\n",
       "      <td>677.00</td>\n",
       "      <td>0.00</td>\n",
       "      <td>23303.27</td>\n",
       "      <td>238290.08</td>\n",
       "    </tr>\n",
       "    <tr>\n",
       "      <th>2206940</th>\n",
       "      <td>2209047</td>\n",
       "      <td>186</td>\n",
       "      <td>3</td>\n",
       "      <td>27208.33</td>\n",
       "      <td>113.00</td>\n",
       "      <td>0.00</td>\n",
       "      <td>0.00</td>\n",
       "      <td>0.00</td>\n",
       "    </tr>\n",
       "    <tr>\n",
       "      <th>2151738</th>\n",
       "      <td>2153825</td>\n",
       "      <td>184</td>\n",
       "      <td>3</td>\n",
       "      <td>37743.11</td>\n",
       "      <td>0.00</td>\n",
       "      <td>0.00</td>\n",
       "      <td>0.00</td>\n",
       "      <td>0.00</td>\n",
       "    </tr>\n",
       "    <tr>\n",
       "      <th>169886</th>\n",
       "      <td>170022</td>\n",
       "      <td>12</td>\n",
       "      <td>1</td>\n",
       "      <td>26743.78</td>\n",
       "      <td>6718.00</td>\n",
       "      <td>0.00</td>\n",
       "      <td>0.00</td>\n",
       "      <td>26743.78</td>\n",
       "    </tr>\n",
       "    <tr>\n",
       "      <th>3976151</th>\n",
       "      <td>3979528</td>\n",
       "      <td>297</td>\n",
       "      <td>3</td>\n",
       "      <td>28352.54</td>\n",
       "      <td>21345.00</td>\n",
       "      <td>0.00</td>\n",
       "      <td>0.00</td>\n",
       "      <td>0.00</td>\n",
       "    </tr>\n",
       "    <tr>\n",
       "      <th>...</th>\n",
       "      <td>...</td>\n",
       "      <td>...</td>\n",
       "      <td>...</td>\n",
       "      <td>...</td>\n",
       "      <td>...</td>\n",
       "      <td>...</td>\n",
       "      <td>...</td>\n",
       "      <td>...</td>\n",
       "    </tr>\n",
       "    <tr>\n",
       "      <th>4376123</th>\n",
       "      <td>4379634</td>\n",
       "      <td>311</td>\n",
       "      <td>3</td>\n",
       "      <td>8334.82</td>\n",
       "      <td>49713.00</td>\n",
       "      <td>41378.18</td>\n",
       "      <td>0.00</td>\n",
       "      <td>0.00</td>\n",
       "    </tr>\n",
       "    <tr>\n",
       "      <th>4799362</th>\n",
       "      <td>4803217</td>\n",
       "      <td>346</td>\n",
       "      <td>0</td>\n",
       "      <td>157075.58</td>\n",
       "      <td>3562183.64</td>\n",
       "      <td>3719259.22</td>\n",
       "      <td>348589.13</td>\n",
       "      <td>191513.55</td>\n",
       "    </tr>\n",
       "    <tr>\n",
       "      <th>2553271</th>\n",
       "      <td>2555573</td>\n",
       "      <td>206</td>\n",
       "      <td>3</td>\n",
       "      <td>10063.32</td>\n",
       "      <td>31990.00</td>\n",
       "      <td>21926.68</td>\n",
       "      <td>0.00</td>\n",
       "      <td>0.00</td>\n",
       "    </tr>\n",
       "    <tr>\n",
       "      <th>3109183</th>\n",
       "      <td>3111842</td>\n",
       "      <td>235</td>\n",
       "      <td>1</td>\n",
       "      <td>53551.90</td>\n",
       "      <td>198159.00</td>\n",
       "      <td>144607.10</td>\n",
       "      <td>719019.22</td>\n",
       "      <td>772571.13</td>\n",
       "    </tr>\n",
       "    <tr>\n",
       "      <th>398685</th>\n",
       "      <td>398891</td>\n",
       "      <td>18</td>\n",
       "      <td>0</td>\n",
       "      <td>197837.14</td>\n",
       "      <td>52174.00</td>\n",
       "      <td>250011.14</td>\n",
       "      <td>194493.72</td>\n",
       "      <td>0.00</td>\n",
       "    </tr>\n",
       "  </tbody>\n",
       "</table>\n",
       "<p>5088781 rows × 8 columns</p>\n",
       "</div>"
      ],
      "text/plain" : [
       "           index  step type     amount  oldbalanceOrg  newbalanceOrig  \\\n",
       "1021715  1022283    47    1  214986.80         677.00            0.00   \n",
       "2206940  2209047   186    3   27208.33         113.00            0.00   \n",
       "2151738  2153825   184    3   37743.11           0.00            0.00   \n",
       "169886    170022    12    1   26743.78        6718.00            0.00   \n",
       "3976151  3979528   297    3   28352.54       21345.00            0.00   \n",
       "...          ...   ...  ...        ...            ...             ...   \n",
       "4376123  4379634   311    3    8334.82       49713.00        41378.18   \n",
       "4799362  4803217   346    0  157075.58     3562183.64      3719259.22   \n",
       "2553271  2555573   206    3   10063.32       31990.00        21926.68   \n",
       "3109183  3111842   235    1   53551.90      198159.00       144607.10   \n",
       "398685    398891    18    0  197837.14       52174.00       250011.14   \n",
       "\n",
       "         oldbalanceDest  newbalanceDest  \n",
       "1021715        23303.27       238290.08  \n",
       "2206940            0.00            0.00  \n",
       "2151738            0.00            0.00  \n",
       "169886             0.00        26743.78  \n",
       "3976151            0.00            0.00  \n",
       "...                 ...             ...  \n",
       "4376123            0.00            0.00  \n",
       "4799362       348589.13       191513.55  \n",
       "2553271            0.00            0.00  \n",
       "3109183       719019.22       772571.13  \n",
       "398685        194493.72            0.00  \n",
       "\n",
       "[5088781 rows x 8 columns]"
      ]
     },
     "execution_count" : 31,
     "metadata" : { },
     "output_type" : "execute_result"
    }
   ],
   "source" : [ ]
  }
 ],
 "metadata" : {
  "kernelspec" : {
   "display_name" : "Python 3",
   "language" : "python",
   "name" : "python3"
  },
  "language_info" : {
   "codemirror_mode" : {
    "name" : "ipython",
    "version" : 3
   },
   "file_extension" : ".py",
   "mimetype" : "text/x-python",
   "name" : "python",
   "nbconvert_exporter" : "python",
   "pygments_lexer" : "ipython3",
   "version" : "3.6.10"
  }
 },
 "nbformat" : 4,
 "nbformat_minor" : 1
}